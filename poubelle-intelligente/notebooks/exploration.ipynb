{
 "cells": [
  {
   "cell_type": "markdown",
   "metadata": {},
   "source": [
    "# Exploration of WASTE Classification Dataset\n",
    "\n",
    "This notebook is used for exploring the WASTE Classification dataset. We will analyze the dataset structure, visualize some samples, and perform preliminary data analysis."
   ]
  },
  {
   "cell_type": "code",
   "execution_count": 1,
   "metadata": {},
   "outputs": [],
   "source": [
    "import os\n",
    "import matplotlib.pyplot as plt\n",
    "import cv2\n",
    "import numpy as np\n",
    "from glob import glob\n",
    "\n",
    "# Define paths to the dataset\n",
    "train_path = '../data/raw/TRAIN/'\n",
    "test_path = '../data/raw/TEST/'\n",
    "\n",
    "# List all images in the training set\n",
    "train_images = glob(os.path.join(train_path, '*/*.jpg'))\n",
    "test_images = glob(os.path.join(test_path, '*/*.jpg'))\n",
    "\n",
    "# Display the number of images in each set\n",
    "print(f'Training images: {len(train_images)}')\n",
    "print(f'Test images: {len(test_images)}')"
   ]
  },
  {
   "cell_type": "code",
   "execution_count": 2,
   "metadata": {},
   "outputs": [],
   "source": [
    "# Function to display a sample of images\n",
    "def display_sample_images(images, n=5):\n",
    "    plt.figure(figsize=(15, 5))\n",
    "    for i in range(n):\n",
    "        img = cv2.imread(images[i])\n",
    "        img = cv2.cvtColor(img, cv2.COLOR_BGR2RGB)\n",
    "        plt.subplot(1, n, i + 1)\n",
    "        plt.imshow(img)\n",
    "        plt.axis('off')\n",
    "    plt.show()\n",
    "\n",
    "# Display sample images from the training set\n",
    "display_sample_images(train_images, n=5)"
   ]
  },
  {
   "cell_type": "markdown",
   "metadata": {},
   "source": [
    "## Preliminary Data Analysis\n",
    "\n",
    "In this section, we will analyze the distribution of classes in the dataset."
   ]
  },
  {
   "cell_type": "code",
   "execution_count": 3,
   "metadata": {},
   "outputs": [],
   "source": [
    "# Count the number of images per class in the training set\n",
    "class_counts = {}\n",
    "for img in train_images:\n",
    "    label = img.split('/')[-2]  # Get the class label from the folder name\n",
    "    class_counts[label] = class_counts.get(label, 0) + 1\n",
    "\n",
    "# Plot the class distribution\n",
    "plt.figure(figsize=(10, 5))\n",
    "plt.bar(class_counts.keys(), class_counts.values())\n",
    "plt.title('Class Distribution in Training Set')\n",
    "plt.xlabel('Class')\n",
    "plt.ylabel('Number of Images')\n",
    "plt.xticks(rotation=45)\n",
    "plt.show()"
   ]
  }
 ],
 "metadata": {
  "kernelspec": {
   "display_name": "Python 3",
   "language": "python",
   "name": "python3"
  },
  "language_info": {
   "codemirror_mode": {
    "name": "ipython",
    "version": 3
   },
   "file_extension": ".py",
   "mimetype": "text/x-python",
   "name": "python",
   "nbconvert_exporter": "python",
   "pygments_lexer": "ipython3",
   "version": "3.8.5"
  }
 },
 "nbformat": 4,
 "nbformat_minor": 4
}